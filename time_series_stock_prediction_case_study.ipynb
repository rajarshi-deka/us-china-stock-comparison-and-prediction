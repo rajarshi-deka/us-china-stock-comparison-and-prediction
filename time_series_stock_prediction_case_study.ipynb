{
  "nbformat": 4,
  "nbformat_minor": 0,
  "metadata": {
    "colab": {
      "name": "time_series.ipynb",
      "provenance": [],
      "collapsed_sections": []
    },
    "kernelspec": {
      "name": "python3",
      "display_name": "Python 3"
    },
    "accelerator": "GPU"
  },
  "cells": [
    {
      "cell_type": "markdown",
      "metadata": {
        "id": "o8Mn1HhebYyo"
      },
      "source": [
        "# Time Series Problem Statement "
      ]
    },
    {
      "cell_type": "code",
      "metadata": {
        "colab": {
          "base_uri": "https://localhost:8080/"
        },
        "id": "4QWbdtVdcbAM",
        "outputId": "ee656de7-f11a-44a3-f277-372be54e5190"
      },
      "source": [
        "from google.colab import drive\n",
        "drive.mount('/content/gdrive')"
      ],
      "execution_count": null,
      "outputs": [
        {
          "output_type": "stream",
          "text": [
            "Mounted at /content/gdrive\n"
          ],
          "name": "stdout"
        }
      ]
    },
    {
      "cell_type": "markdown",
      "metadata": {
        "id": "Phv2YodjcBTt"
      },
      "source": [
        "## Table of Contents"
      ]
    },
    {
      "cell_type": "markdown",
      "metadata": {
        "id": "n46mNATYcIa2"
      },
      "source": [
        "*  Importing Packages\n",
        "*  Loading Datasets\n",
        "*  Exploratory Data Analysis\n",
        "*  Performing Independent Student's t-Test\n",
        "*  Performing Time-Based Splitting\n",
        "*  Normalizing the Data\n",
        "*  Performing Featurization using Moving-Window Technique\n",
        "*  Reshaping Data for LSTM\n",
        "*  Building a Stacked LSTM Model\n",
        "*  Defining Callbacks\n",
        "*  Training the Model\n",
        "*  Making Predictions "
      ]
    },
    {
      "cell_type": "markdown",
      "metadata": {
        "id": "G7osry1hcQFm"
      },
      "source": [
        "## Importing Packages"
      ]
    },
    {
      "cell_type": "code",
      "metadata": {
        "id": "l2NZbgRlaxj5"
      },
      "source": [
        "import pickle\n",
        "\n",
        "import pandas as pd\n",
        "import numpy as np\n",
        "import tensorflow as tf\n",
        "import matplotlib.pyplot as plt\n",
        "%matplotlib inline\n",
        "\n",
        "from sklearn import preprocessing\n",
        "from scipy import stats\n",
        "from tensorflow.keras import models, layers, optimizers, callbacks"
      ],
      "execution_count": null,
      "outputs": []
    },
    {
      "cell_type": "code",
      "metadata": {
        "colab": {
          "base_uri": "https://localhost:8080/"
        },
        "id": "DNKswJy71YjO",
        "outputId": "b3f90fab-d216-4aba-8dc7-a4689909d9de"
      },
      "source": [
        "print('tensorflow_version: ', tf.__version__)"
      ],
      "execution_count": null,
      "outputs": [
        {
          "output_type": "stream",
          "text": [
            "tensorflow_version:  2.4.1\n"
          ],
          "name": "stdout"
        }
      ]
    },
    {
      "cell_type": "markdown",
      "metadata": {
        "id": "cYP0M6RbgJcw"
      },
      "source": [
        "## Loading Datasets"
      ]
    },
    {
      "cell_type": "code",
      "metadata": {
        "id": "jsmngDKpf46E"
      },
      "source": [
        "df_usa = pd.read_excel('/content/gdrive/MyDrive/skanestas/Data set for TASK 2.xlsx', sheet_name=0)\n",
        "df_china = pd.read_excel('/content/gdrive/MyDrive/skanestas/Data set for TASK 2.xlsx', sheet_name=1)"
      ],
      "execution_count": null,
      "outputs": []
    },
    {
      "cell_type": "code",
      "metadata": {
        "colab": {
          "base_uri": "https://localhost:8080/",
          "height": 195
        },
        "id": "IVetdkb0gxf7",
        "outputId": "da05ad7d-f856-4374-e0b4-6be5623759d7"
      },
      "source": [
        "df_usa.head()"
      ],
      "execution_count": null,
      "outputs": [
        {
          "output_type": "execute_result",
          "data": {
            "text/html": [
              "<div>\n",
              "<style scoped>\n",
              "    .dataframe tbody tr th:only-of-type {\n",
              "        vertical-align: middle;\n",
              "    }\n",
              "\n",
              "    .dataframe tbody tr th {\n",
              "        vertical-align: top;\n",
              "    }\n",
              "\n",
              "    .dataframe thead th {\n",
              "        text-align: right;\n",
              "    }\n",
              "</style>\n",
              "<table border=\"1\" class=\"dataframe\">\n",
              "  <thead>\n",
              "    <tr style=\"text-align: right;\">\n",
              "      <th></th>\n",
              "      <th>Date</th>\n",
              "      <th>Time</th>\n",
              "      <th>Volume</th>\n",
              "      <th>Open</th>\n",
              "      <th>High</th>\n",
              "      <th>Low</th>\n",
              "      <th>Close</th>\n",
              "    </tr>\n",
              "  </thead>\n",
              "  <tbody>\n",
              "    <tr>\n",
              "      <th>0</th>\n",
              "      <td>2020-12-14</td>\n",
              "      <td>11:38:00</td>\n",
              "      <td>1240</td>\n",
              "      <td>3670.25</td>\n",
              "      <td>3670.50</td>\n",
              "      <td>3669.50</td>\n",
              "      <td>3670.50</td>\n",
              "    </tr>\n",
              "    <tr>\n",
              "      <th>1</th>\n",
              "      <td>2020-12-14</td>\n",
              "      <td>11:37:00</td>\n",
              "      <td>2833</td>\n",
              "      <td>3669.75</td>\n",
              "      <td>3671.00</td>\n",
              "      <td>3669.50</td>\n",
              "      <td>3670.00</td>\n",
              "    </tr>\n",
              "    <tr>\n",
              "      <th>2</th>\n",
              "      <td>2020-12-14</td>\n",
              "      <td>11:36:00</td>\n",
              "      <td>3446</td>\n",
              "      <td>3667.25</td>\n",
              "      <td>3670.00</td>\n",
              "      <td>3666.75</td>\n",
              "      <td>3669.75</td>\n",
              "    </tr>\n",
              "    <tr>\n",
              "      <th>3</th>\n",
              "      <td>2020-12-14</td>\n",
              "      <td>11:35:00</td>\n",
              "      <td>3152</td>\n",
              "      <td>3667.25</td>\n",
              "      <td>3668.25</td>\n",
              "      <td>3666.75</td>\n",
              "      <td>3667.25</td>\n",
              "    </tr>\n",
              "    <tr>\n",
              "      <th>4</th>\n",
              "      <td>2020-12-14</td>\n",
              "      <td>11:34:00</td>\n",
              "      <td>4061</td>\n",
              "      <td>3667.25</td>\n",
              "      <td>3667.75</td>\n",
              "      <td>3665.50</td>\n",
              "      <td>3667.25</td>\n",
              "    </tr>\n",
              "  </tbody>\n",
              "</table>\n",
              "</div>"
            ],
            "text/plain": [
              "        Date      Time  Volume     Open     High      Low    Close\n",
              "0 2020-12-14  11:38:00    1240  3670.25  3670.50  3669.50  3670.50\n",
              "1 2020-12-14  11:37:00    2833  3669.75  3671.00  3669.50  3670.00\n",
              "2 2020-12-14  11:36:00    3446  3667.25  3670.00  3666.75  3669.75\n",
              "3 2020-12-14  11:35:00    3152  3667.25  3668.25  3666.75  3667.25\n",
              "4 2020-12-14  11:34:00    4061  3667.25  3667.75  3665.50  3667.25"
            ]
          },
          "metadata": {
            "tags": []
          },
          "execution_count": 12
        }
      ]
    },
    {
      "cell_type": "code",
      "metadata": {
        "colab": {
          "base_uri": "https://localhost:8080/",
          "height": 195
        },
        "id": "neN0Xfh2i0V-",
        "outputId": "a0f7748b-bdfc-4e64-d215-7cf99ea1cb6b"
      },
      "source": [
        "df_china.head()"
      ],
      "execution_count": null,
      "outputs": [
        {
          "output_type": "execute_result",
          "data": {
            "text/html": [
              "<div>\n",
              "<style scoped>\n",
              "    .dataframe tbody tr th:only-of-type {\n",
              "        vertical-align: middle;\n",
              "    }\n",
              "\n",
              "    .dataframe tbody tr th {\n",
              "        vertical-align: top;\n",
              "    }\n",
              "\n",
              "    .dataframe thead th {\n",
              "        text-align: right;\n",
              "    }\n",
              "</style>\n",
              "<table border=\"1\" class=\"dataframe\">\n",
              "  <thead>\n",
              "    <tr style=\"text-align: right;\">\n",
              "      <th></th>\n",
              "      <th>Date</th>\n",
              "      <th>Time</th>\n",
              "      <th>Volume</th>\n",
              "      <th>Open</th>\n",
              "      <th>High</th>\n",
              "      <th>Low</th>\n",
              "      <th>Close</th>\n",
              "    </tr>\n",
              "  </thead>\n",
              "  <tbody>\n",
              "    <tr>\n",
              "      <th>0</th>\n",
              "      <td>2020-12-15</td>\n",
              "      <td>10:16:00</td>\n",
              "      <td>12</td>\n",
              "      <td>16753.0</td>\n",
              "      <td>16753.0</td>\n",
              "      <td>16750.0</td>\n",
              "      <td>16751.0</td>\n",
              "    </tr>\n",
              "    <tr>\n",
              "      <th>1</th>\n",
              "      <td>2020-12-15</td>\n",
              "      <td>10:15:00</td>\n",
              "      <td>18</td>\n",
              "      <td>16752.0</td>\n",
              "      <td>16755.0</td>\n",
              "      <td>16752.0</td>\n",
              "      <td>16753.0</td>\n",
              "    </tr>\n",
              "    <tr>\n",
              "      <th>2</th>\n",
              "      <td>2020-12-15</td>\n",
              "      <td>10:14:00</td>\n",
              "      <td>7</td>\n",
              "      <td>16749.0</td>\n",
              "      <td>16752.0</td>\n",
              "      <td>16749.0</td>\n",
              "      <td>16750.0</td>\n",
              "    </tr>\n",
              "    <tr>\n",
              "      <th>3</th>\n",
              "      <td>2020-12-15</td>\n",
              "      <td>10:13:00</td>\n",
              "      <td>5</td>\n",
              "      <td>16748.0</td>\n",
              "      <td>16750.0</td>\n",
              "      <td>16748.0</td>\n",
              "      <td>16750.0</td>\n",
              "    </tr>\n",
              "    <tr>\n",
              "      <th>4</th>\n",
              "      <td>2020-12-15</td>\n",
              "      <td>10:12:00</td>\n",
              "      <td>3</td>\n",
              "      <td>16750.0</td>\n",
              "      <td>16750.0</td>\n",
              "      <td>16750.0</td>\n",
              "      <td>16750.0</td>\n",
              "    </tr>\n",
              "  </tbody>\n",
              "</table>\n",
              "</div>"
            ],
            "text/plain": [
              "        Date      Time  Volume     Open     High      Low    Close\n",
              "0 2020-12-15  10:16:00      12  16753.0  16753.0  16750.0  16751.0\n",
              "1 2020-12-15  10:15:00      18  16752.0  16755.0  16752.0  16753.0\n",
              "2 2020-12-15  10:14:00       7  16749.0  16752.0  16749.0  16750.0\n",
              "3 2020-12-15  10:13:00       5  16748.0  16750.0  16748.0  16750.0\n",
              "4 2020-12-15  10:12:00       3  16750.0  16750.0  16750.0  16750.0"
            ]
          },
          "metadata": {
            "tags": []
          },
          "execution_count": 13
        }
      ]
    },
    {
      "cell_type": "markdown",
      "metadata": {
        "id": "EAYW6uT4jEQa"
      },
      "source": [
        "## Exploratory Data Analysis"
      ]
    },
    {
      "cell_type": "code",
      "metadata": {
        "colab": {
          "base_uri": "https://localhost:8080/"
        },
        "id": "eG-iDmoai3H7",
        "outputId": "38fdea45-6797-4355-f18c-d36367c3792c"
      },
      "source": [
        "df_usa.info()"
      ],
      "execution_count": null,
      "outputs": [
        {
          "output_type": "stream",
          "text": [
            "<class 'pandas.core.frame.DataFrame'>\n",
            "RangeIndex: 683151 entries, 0 to 683150\n",
            "Data columns (total 7 columns):\n",
            " #   Column  Non-Null Count   Dtype         \n",
            "---  ------  --------------   -----         \n",
            " 0   Date    683151 non-null  datetime64[ns]\n",
            " 1   Time    683151 non-null  object        \n",
            " 2   Volume  683151 non-null  int64         \n",
            " 3   Open    683151 non-null  float64       \n",
            " 4   High    683151 non-null  float64       \n",
            " 5   Low     683151 non-null  float64       \n",
            " 6   Close   683151 non-null  float64       \n",
            "dtypes: datetime64[ns](1), float64(4), int64(1), object(1)\n",
            "memory usage: 36.5+ MB\n"
          ],
          "name": "stdout"
        }
      ]
    },
    {
      "cell_type": "code",
      "metadata": {
        "colab": {
          "base_uri": "https://localhost:8080/"
        },
        "id": "21uTyAHejQon",
        "outputId": "7a808d99-f82d-4106-ade7-835e9fc6066b"
      },
      "source": [
        "df_china.info()"
      ],
      "execution_count": null,
      "outputs": [
        {
          "output_type": "stream",
          "text": [
            "<class 'pandas.core.frame.DataFrame'>\n",
            "RangeIndex: 555713 entries, 0 to 555712\n",
            "Data columns (total 7 columns):\n",
            " #   Column  Non-Null Count   Dtype         \n",
            "---  ------  --------------   -----         \n",
            " 0   Date    555713 non-null  datetime64[ns]\n",
            " 1   Time    555713 non-null  object        \n",
            " 2   Volume  555713 non-null  int64         \n",
            " 3   Open    555713 non-null  float64       \n",
            " 4   High    555713 non-null  float64       \n",
            " 5   Low     555713 non-null  float64       \n",
            " 6   Close   555713 non-null  float64       \n",
            "dtypes: datetime64[ns](1), float64(4), int64(1), object(1)\n",
            "memory usage: 29.7+ MB\n"
          ],
          "name": "stdout"
        }
      ]
    },
    {
      "cell_type": "code",
      "metadata": {
        "id": "Z4XH8Pwp1IV3"
      },
      "source": [
        "df_usa.sort_values(by=['Date','Time'], inplace=True)\n",
        "df_china.sort_values(by=['Date','Time'], inplace=True)"
      ],
      "execution_count": null,
      "outputs": []
    },
    {
      "cell_type": "markdown",
      "metadata": {
        "id": "smLxJ0cbkY19"
      },
      "source": [
        "**OBSERVATION**\n",
        "*  In both the dataframes, we observe that there are no null values. So we don't need to perform any pre-processing task related to handling missing values\n",
        "*  Also, we have sorted both the dataframes in ascending order of Date-Time"
      ]
    },
    {
      "cell_type": "code",
      "metadata": {
        "colab": {
          "base_uri": "https://localhost:8080/",
          "height": 284
        },
        "id": "qm4qhKXFjWlu",
        "outputId": "60c5d2cc-c1c2-47ec-eafb-b43ab9377d31"
      },
      "source": [
        "df_usa.describe()"
      ],
      "execution_count": null,
      "outputs": [
        {
          "output_type": "execute_result",
          "data": {
            "text/html": [
              "<div>\n",
              "<style scoped>\n",
              "    .dataframe tbody tr th:only-of-type {\n",
              "        vertical-align: middle;\n",
              "    }\n",
              "\n",
              "    .dataframe tbody tr th {\n",
              "        vertical-align: top;\n",
              "    }\n",
              "\n",
              "    .dataframe thead th {\n",
              "        text-align: right;\n",
              "    }\n",
              "</style>\n",
              "<table border=\"1\" class=\"dataframe\">\n",
              "  <thead>\n",
              "    <tr style=\"text-align: right;\">\n",
              "      <th></th>\n",
              "      <th>Volume</th>\n",
              "      <th>Open</th>\n",
              "      <th>High</th>\n",
              "      <th>Low</th>\n",
              "      <th>Close</th>\n",
              "    </tr>\n",
              "  </thead>\n",
              "  <tbody>\n",
              "    <tr>\n",
              "      <th>count</th>\n",
              "      <td>683151.000000</td>\n",
              "      <td>683151.000000</td>\n",
              "      <td>683151.000000</td>\n",
              "      <td>683151.000000</td>\n",
              "      <td>683151.000000</td>\n",
              "    </tr>\n",
              "    <tr>\n",
              "      <th>mean</th>\n",
              "      <td>1112.731362</td>\n",
              "      <td>3047.973729</td>\n",
              "      <td>3048.582143</td>\n",
              "      <td>3047.364433</td>\n",
              "      <td>3047.974035</td>\n",
              "    </tr>\n",
              "    <tr>\n",
              "      <th>std</th>\n",
              "      <td>2340.822947</td>\n",
              "      <td>277.628886</td>\n",
              "      <td>277.506681</td>\n",
              "      <td>277.744226</td>\n",
              "      <td>277.626910</td>\n",
              "    </tr>\n",
              "    <tr>\n",
              "      <th>min</th>\n",
              "      <td>1.000000</td>\n",
              "      <td>2174.000000</td>\n",
              "      <td>2174.000000</td>\n",
              "      <td>2174.000000</td>\n",
              "      <td>2174.000000</td>\n",
              "    </tr>\n",
              "    <tr>\n",
              "      <th>25%</th>\n",
              "      <td>119.000000</td>\n",
              "      <td>2865.000000</td>\n",
              "      <td>2865.500000</td>\n",
              "      <td>2864.250000</td>\n",
              "      <td>2865.000000</td>\n",
              "    </tr>\n",
              "    <tr>\n",
              "      <th>50%</th>\n",
              "      <td>325.000000</td>\n",
              "      <td>3003.000000</td>\n",
              "      <td>3003.250000</td>\n",
              "      <td>3002.750000</td>\n",
              "      <td>3003.000000</td>\n",
              "    </tr>\n",
              "    <tr>\n",
              "      <th>75%</th>\n",
              "      <td>1209.000000</td>\n",
              "      <td>3254.750000</td>\n",
              "      <td>3255.250000</td>\n",
              "      <td>3254.250000</td>\n",
              "      <td>3254.750000</td>\n",
              "    </tr>\n",
              "    <tr>\n",
              "      <th>max</th>\n",
              "      <td>144947.000000</td>\n",
              "      <td>3713.750000</td>\n",
              "      <td>3714.750000</td>\n",
              "      <td>3713.500000</td>\n",
              "      <td>3713.500000</td>\n",
              "    </tr>\n",
              "  </tbody>\n",
              "</table>\n",
              "</div>"
            ],
            "text/plain": [
              "              Volume           Open  ...            Low          Close\n",
              "count  683151.000000  683151.000000  ...  683151.000000  683151.000000\n",
              "mean     1112.731362    3047.973729  ...    3047.364433    3047.974035\n",
              "std      2340.822947     277.628886  ...     277.744226     277.626910\n",
              "min         1.000000    2174.000000  ...    2174.000000    2174.000000\n",
              "25%       119.000000    2865.000000  ...    2864.250000    2865.000000\n",
              "50%       325.000000    3003.000000  ...    3002.750000    3003.000000\n",
              "75%      1209.000000    3254.750000  ...    3254.250000    3254.750000\n",
              "max    144947.000000    3713.750000  ...    3713.500000    3713.500000\n",
              "\n",
              "[8 rows x 5 columns]"
            ]
          },
          "metadata": {
            "tags": []
          },
          "execution_count": 15
        }
      ]
    },
    {
      "cell_type": "code",
      "metadata": {
        "colab": {
          "base_uri": "https://localhost:8080/",
          "height": 284
        },
        "id": "cMBa1IAmnaXO",
        "outputId": "72bb79c1-a5df-48db-bf1f-e1a658d287a6"
      },
      "source": [
        "df_china.describe()"
      ],
      "execution_count": null,
      "outputs": [
        {
          "output_type": "execute_result",
          "data": {
            "text/html": [
              "<div>\n",
              "<style scoped>\n",
              "    .dataframe tbody tr th:only-of-type {\n",
              "        vertical-align: middle;\n",
              "    }\n",
              "\n",
              "    .dataframe tbody tr th {\n",
              "        vertical-align: top;\n",
              "    }\n",
              "\n",
              "    .dataframe thead th {\n",
              "        text-align: right;\n",
              "    }\n",
              "</style>\n",
              "<table border=\"1\" class=\"dataframe\">\n",
              "  <thead>\n",
              "    <tr style=\"text-align: right;\">\n",
              "      <th></th>\n",
              "      <th>Volume</th>\n",
              "      <th>Open</th>\n",
              "      <th>High</th>\n",
              "      <th>Low</th>\n",
              "      <th>Close</th>\n",
              "    </tr>\n",
              "  </thead>\n",
              "  <tbody>\n",
              "    <tr>\n",
              "      <th>count</th>\n",
              "      <td>555713.000000</td>\n",
              "      <td>555713.000000</td>\n",
              "      <td>555713.000000</td>\n",
              "      <td>555713.000000</td>\n",
              "      <td>555713.000000</td>\n",
              "    </tr>\n",
              "    <tr>\n",
              "      <th>mean</th>\n",
              "      <td>236.067056</td>\n",
              "      <td>13831.838734</td>\n",
              "      <td>13834.580470</td>\n",
              "      <td>13829.085182</td>\n",
              "      <td>13831.844259</td>\n",
              "    </tr>\n",
              "    <tr>\n",
              "      <th>std</th>\n",
              "      <td>515.314569</td>\n",
              "      <td>1355.638013</td>\n",
              "      <td>1355.591298</td>\n",
              "      <td>1355.668527</td>\n",
              "      <td>1355.645325</td>\n",
              "    </tr>\n",
              "    <tr>\n",
              "      <th>min</th>\n",
              "      <td>1.000000</td>\n",
              "      <td>10192.500000</td>\n",
              "      <td>10195.000000</td>\n",
              "      <td>10187.500000</td>\n",
              "      <td>10192.500000</td>\n",
              "    </tr>\n",
              "    <tr>\n",
              "      <th>25%</th>\n",
              "      <td>14.000000</td>\n",
              "      <td>13005.000000</td>\n",
              "      <td>13007.500000</td>\n",
              "      <td>13000.000000</td>\n",
              "      <td>13005.000000</td>\n",
              "    </tr>\n",
              "    <tr>\n",
              "      <th>50%</th>\n",
              "      <td>51.000000</td>\n",
              "      <td>13670.000000</td>\n",
              "      <td>13672.500000</td>\n",
              "      <td>13667.500000</td>\n",
              "      <td>13670.000000</td>\n",
              "    </tr>\n",
              "    <tr>\n",
              "      <th>75%</th>\n",
              "      <td>224.000000</td>\n",
              "      <td>14500.000000</td>\n",
              "      <td>14502.500000</td>\n",
              "      <td>14497.500000</td>\n",
              "      <td>14500.000000</td>\n",
              "    </tr>\n",
              "    <tr>\n",
              "      <th>max</th>\n",
              "      <td>22038.000000</td>\n",
              "      <td>17200.000000</td>\n",
              "      <td>17213.000000</td>\n",
              "      <td>17193.000000</td>\n",
              "      <td>17199.000000</td>\n",
              "    </tr>\n",
              "  </tbody>\n",
              "</table>\n",
              "</div>"
            ],
            "text/plain": [
              "              Volume           Open  ...            Low          Close\n",
              "count  555713.000000  555713.000000  ...  555713.000000  555713.000000\n",
              "mean      236.067056   13831.838734  ...   13829.085182   13831.844259\n",
              "std       515.314569    1355.638013  ...    1355.668527    1355.645325\n",
              "min         1.000000   10192.500000  ...   10187.500000   10192.500000\n",
              "25%        14.000000   13005.000000  ...   13000.000000   13005.000000\n",
              "50%        51.000000   13670.000000  ...   13667.500000   13670.000000\n",
              "75%       224.000000   14500.000000  ...   14497.500000   14500.000000\n",
              "max     22038.000000   17200.000000  ...   17193.000000   17199.000000\n",
              "\n",
              "[8 rows x 5 columns]"
            ]
          },
          "metadata": {
            "tags": []
          },
          "execution_count": 16
        }
      ]
    },
    {
      "cell_type": "markdown",
      "metadata": {
        "id": "g9VBqMt0pSrj"
      },
      "source": [
        "**OBSERVATION**\n",
        "*  In this case, since we shall be performing an independent Student's t-Test using the open_column_usa and close_column_china, we need to first convert the close_column_china to US Dollar (USD) since all the values are in the units of Chinese Yuan (CNY)\n",
        "* As such we shall be considering the exchange rate as of 15 December, 2020 where 1 USD to CNY = 6.5464"
      ]
    },
    {
      "cell_type": "code",
      "metadata": {
        "id": "zTsz0TsYmcQY"
      },
      "source": [
        "df_china['close_usd'] = df_china['Close'] / 6.5464"
      ],
      "execution_count": null,
      "outputs": []
    },
    {
      "cell_type": "code",
      "metadata": {
        "colab": {
          "base_uri": "https://localhost:8080/",
          "height": 195
        },
        "id": "GOstIWSBmhf4",
        "outputId": "f99a001b-2695-420a-b7c9-9f9ca094a0b7"
      },
      "source": [
        "df_china.head()"
      ],
      "execution_count": null,
      "outputs": [
        {
          "output_type": "execute_result",
          "data": {
            "text/html": [
              "<div>\n",
              "<style scoped>\n",
              "    .dataframe tbody tr th:only-of-type {\n",
              "        vertical-align: middle;\n",
              "    }\n",
              "\n",
              "    .dataframe tbody tr th {\n",
              "        vertical-align: top;\n",
              "    }\n",
              "\n",
              "    .dataframe thead th {\n",
              "        text-align: right;\n",
              "    }\n",
              "</style>\n",
              "<table border=\"1\" class=\"dataframe\">\n",
              "  <thead>\n",
              "    <tr style=\"text-align: right;\">\n",
              "      <th></th>\n",
              "      <th>Date</th>\n",
              "      <th>Time</th>\n",
              "      <th>Volume</th>\n",
              "      <th>Open</th>\n",
              "      <th>High</th>\n",
              "      <th>Low</th>\n",
              "      <th>Close</th>\n",
              "      <th>close_usd</th>\n",
              "    </tr>\n",
              "  </thead>\n",
              "  <tbody>\n",
              "    <tr>\n",
              "      <th>555712</th>\n",
              "      <td>2019-01-01</td>\n",
              "      <td>20:01:00</td>\n",
              "      <td>668</td>\n",
              "      <td>10435.0</td>\n",
              "      <td>10440.0</td>\n",
              "      <td>10410.0</td>\n",
              "      <td>10435.0</td>\n",
              "      <td>1594.005866</td>\n",
              "    </tr>\n",
              "    <tr>\n",
              "      <th>555711</th>\n",
              "      <td>2019-01-01</td>\n",
              "      <td>20:02:00</td>\n",
              "      <td>191</td>\n",
              "      <td>10435.0</td>\n",
              "      <td>10440.0</td>\n",
              "      <td>10432.5</td>\n",
              "      <td>10437.5</td>\n",
              "      <td>1594.387755</td>\n",
              "    </tr>\n",
              "    <tr>\n",
              "      <th>555710</th>\n",
              "      <td>2019-01-01</td>\n",
              "      <td>20:03:00</td>\n",
              "      <td>200</td>\n",
              "      <td>10435.0</td>\n",
              "      <td>10437.5</td>\n",
              "      <td>10430.0</td>\n",
              "      <td>10435.0</td>\n",
              "      <td>1594.005866</td>\n",
              "    </tr>\n",
              "    <tr>\n",
              "      <th>555709</th>\n",
              "      <td>2019-01-01</td>\n",
              "      <td>20:04:00</td>\n",
              "      <td>189</td>\n",
              "      <td>10435.0</td>\n",
              "      <td>10435.0</td>\n",
              "      <td>10425.0</td>\n",
              "      <td>10427.5</td>\n",
              "      <td>1592.860198</td>\n",
              "    </tr>\n",
              "    <tr>\n",
              "      <th>555708</th>\n",
              "      <td>2019-01-01</td>\n",
              "      <td>20:05:00</td>\n",
              "      <td>176</td>\n",
              "      <td>10427.5</td>\n",
              "      <td>10430.0</td>\n",
              "      <td>10425.0</td>\n",
              "      <td>10427.5</td>\n",
              "      <td>1592.860198</td>\n",
              "    </tr>\n",
              "  </tbody>\n",
              "</table>\n",
              "</div>"
            ],
            "text/plain": [
              "             Date      Time  Volume  ...      Low    Close    close_usd\n",
              "555712 2019-01-01  20:01:00     668  ...  10410.0  10435.0  1594.005866\n",
              "555711 2019-01-01  20:02:00     191  ...  10432.5  10437.5  1594.387755\n",
              "555710 2019-01-01  20:03:00     200  ...  10430.0  10435.0  1594.005866\n",
              "555709 2019-01-01  20:04:00     189  ...  10425.0  10427.5  1592.860198\n",
              "555708 2019-01-01  20:05:00     176  ...  10425.0  10427.5  1592.860198\n",
              "\n",
              "[5 rows x 8 columns]"
            ]
          },
          "metadata": {
            "tags": []
          },
          "execution_count": 16
        }
      ]
    },
    {
      "cell_type": "code",
      "metadata": {
        "colab": {
          "base_uri": "https://localhost:8080/",
          "height": 265
        },
        "id": "X-ZkOAs91_GQ",
        "outputId": "b6e988fa-c6da-43f9-dcfe-1354812dd959"
      },
      "source": [
        "plt.plot(df_usa['Open'])\n",
        "plt.show();"
      ],
      "execution_count": null,
      "outputs": [
        {
          "output_type": "display_data",
          "data": {
            "image/png": "[encoded data removed]",
            "text/plain": [
              "<Figure size 432x288 with 1 Axes>"
            ]
          },
          "metadata": {
            "tags": [],
            "needs_background": "light"
          }
        }
      ]
    },
    {
      "cell_type": "code",
      "metadata": {
        "colab": {
          "base_uri": "https://localhost:8080/",
          "height": 265
        },
        "id": "K7PQS8WjngE5",
        "outputId": "1233ac41-abd2-4f36-830a-e93077cd7a12"
      },
      "source": [
        "plt.plot(df_china['close_usd'])\n",
        "plt.show();"
      ],
      "execution_count": null,
      "outputs": [
        {
          "output_type": "display_data",
          "data": {
            "image/png": "[encoded data removed]",
            "text/plain": [
              "<Figure size 432x288 with 1 Axes>"
            ]
          },
          "metadata": {
            "tags": [],
            "needs_background": "light"
          }
        }
      ]
    },
    {
      "cell_type": "markdown",
      "metadata": {
        "id": "mYO14h7N-XL2"
      },
      "source": [
        "**OBSERVATION**\n",
        "*  From the above plots, we can state that both the opening_price for USA and the closing_price for China follows a more or less similar trend but varies significantly in seasonality\n",
        "*  We perform the Independent Student t-Test on both the groups for further analysis"
      ]
    },
    {
      "cell_type": "markdown",
      "metadata": {
        "id": "FSXWg4A7nxpk"
      },
      "source": [
        "## Performing Independent Student's t-Test"
      ]
    },
    {
      "cell_type": "code",
      "metadata": {
        "id": "7iarqUmingPe"
      },
      "source": [
        "def ind_student_t_test(sample_one, sample_two, alpha):\n",
        "\t\n",
        "\tmean_one, mean_two = np.mean(sample_one), np.mean(sample_two)\t\n",
        "\tstandard_error_one, standard_error_two = stats.sem(sample_one), stats.sem(sample_two)\t\n",
        "\tstandard_error_diff = np.sqrt(standard_error_one**2.0 + standard_error_two**2.0)\t\n",
        "\ttest_statistic = (mean_one - mean_two) / standard_error_diff\n",
        "\t\n",
        "\tdegree_of_freedom = len(sample_one) + len(sample_two) - 2\n",
        "\t\n",
        "\tcritical_value = stats.t.ppf(1.0 - alpha, degree_of_freedom)\n",
        "\t\n",
        "\tp_value = (1.0 - stats.t.cdf(abs(test_statistic), degree_of_freedom)) * 2.0\n",
        "\t\n",
        "\treturn test_statistic, degree_of_freedom, critical_value, p_value"
      ],
      "execution_count": null,
      "outputs": []
    },
    {
      "cell_type": "code",
      "metadata": {
        "id": "Ob-y-lfGngMd"
      },
      "source": [
        "sample_one = np.array(df_usa[['Open']].sample(100))\n",
        "sample_two = np.array(df_china[['close_usd']].sample(100))\n",
        "alpha = 0.05"
      ],
      "execution_count": null,
      "outputs": []
    },
    {
      "cell_type": "code",
      "metadata": {
        "colab": {
          "base_uri": "https://localhost:8080/"
        },
        "id": "xu2bMR1ZngJu",
        "outputId": "9a9c3be5-c1a2-4da6-a884-de71f185dbc1"
      },
      "source": [
        "test_statistic, degree_of_freedom, critical_value, p_value = ind_student_t_test(sample_one, sample_two, alpha)\n",
        "print('test_statistic=%.3f, degree_of_freedom=%d, critical_value=%.3f, p_value=%.3f' % (test_statistic, degree_of_freedom, \n",
        "                                                                                        critical_value, p_value))"
      ],
      "execution_count": null,
      "outputs": [
        {
          "output_type": "stream",
          "text": [
            "test_statistic=27.155, degree_of_freedom=198, critical_value=1.653, p_value=0.000\n"
          ],
          "name": "stdout"
        }
      ]
    },
    {
      "cell_type": "code",
      "metadata": {
        "colab": {
          "base_uri": "https://localhost:8080/"
        },
        "id": "1NdnfFvzngHO",
        "outputId": "c3181b33-ad6a-4d59-c5da-e80267af522f"
      },
      "source": [
        "if abs(test_statistic) <= critical_value:\n",
        "\tprint('Accept the null hypothesis that the means are equal.')\n",
        "else:\n",
        "  if p_value > alpha:\n",
        "    print('Accept the null hypothesis that the means are equal.')\n",
        "  else:\n",
        "\t  print('Reject the null hypothesis that the means are equal.')"
      ],
      "execution_count": null,
      "outputs": [
        {
          "output_type": "stream",
          "text": [
            "Reject the null hypothesis that the means are equal.\n"
          ],
          "name": "stdout"
        }
      ]
    },
    {
      "cell_type": "markdown",
      "metadata": {
        "id": "7BiKd72Y2UbA"
      },
      "source": [
        "**OBSERVATION**\n",
        "*  From the above analysis, we can conclude that since the absolute value of the test-statistic is greater than the critical-value, so before rejecting the null-hypothesis we check the p-value and have observed that the p-value is less than the significance-level (alpha)\n",
        "*  As such, we can reject the null hypothesis that the means of the two samples are equal and can finally conclude that the two samples are significantly different"
      ]
    },
    {
      "cell_type": "markdown",
      "metadata": {
        "id": "12GhOjvh8TtA"
      },
      "source": [
        "## Performing Time-Based Splitting"
      ]
    },
    {
      "cell_type": "code",
      "metadata": {
        "colab": {
          "base_uri": "https://localhost:8080/",
          "height": 195
        },
        "id": "_s5AV9Fa1_BL",
        "outputId": "9038f460-f726-4ac5-e7fb-b92949febb55"
      },
      "source": [
        "df_china.head()"
      ],
      "execution_count": null,
      "outputs": [
        {
          "output_type": "execute_result",
          "data": {
            "text/html": [
              "<div>\n",
              "<style scoped>\n",
              "    .dataframe tbody tr th:only-of-type {\n",
              "        vertical-align: middle;\n",
              "    }\n",
              "\n",
              "    .dataframe tbody tr th {\n",
              "        vertical-align: top;\n",
              "    }\n",
              "\n",
              "    .dataframe thead th {\n",
              "        text-align: right;\n",
              "    }\n",
              "</style>\n",
              "<table border=\"1\" class=\"dataframe\">\n",
              "  <thead>\n",
              "    <tr style=\"text-align: right;\">\n",
              "      <th></th>\n",
              "      <th>Date</th>\n",
              "      <th>Time</th>\n",
              "      <th>Volume</th>\n",
              "      <th>Open</th>\n",
              "      <th>High</th>\n",
              "      <th>Low</th>\n",
              "      <th>Close</th>\n",
              "      <th>close_usd</th>\n",
              "    </tr>\n",
              "  </thead>\n",
              "  <tbody>\n",
              "    <tr>\n",
              "      <th>555712</th>\n",
              "      <td>2019-01-01</td>\n",
              "      <td>20:01:00</td>\n",
              "      <td>668</td>\n",
              "      <td>10435.0</td>\n",
              "      <td>10440.0</td>\n",
              "      <td>10410.0</td>\n",
              "      <td>10435.0</td>\n",
              "      <td>1594.005866</td>\n",
              "    </tr>\n",
              "    <tr>\n",
              "      <th>555711</th>\n",
              "      <td>2019-01-01</td>\n",
              "      <td>20:02:00</td>\n",
              "      <td>191</td>\n",
              "      <td>10435.0</td>\n",
              "      <td>10440.0</td>\n",
              "      <td>10432.5</td>\n",
              "      <td>10437.5</td>\n",
              "      <td>1594.387755</td>\n",
              "    </tr>\n",
              "    <tr>\n",
              "      <th>555710</th>\n",
              "      <td>2019-01-01</td>\n",
              "      <td>20:03:00</td>\n",
              "      <td>200</td>\n",
              "      <td>10435.0</td>\n",
              "      <td>10437.5</td>\n",
              "      <td>10430.0</td>\n",
              "      <td>10435.0</td>\n",
              "      <td>1594.005866</td>\n",
              "    </tr>\n",
              "    <tr>\n",
              "      <th>555709</th>\n",
              "      <td>2019-01-01</td>\n",
              "      <td>20:04:00</td>\n",
              "      <td>189</td>\n",
              "      <td>10435.0</td>\n",
              "      <td>10435.0</td>\n",
              "      <td>10425.0</td>\n",
              "      <td>10427.5</td>\n",
              "      <td>1592.860198</td>\n",
              "    </tr>\n",
              "    <tr>\n",
              "      <th>555708</th>\n",
              "      <td>2019-01-01</td>\n",
              "      <td>20:05:00</td>\n",
              "      <td>176</td>\n",
              "      <td>10427.5</td>\n",
              "      <td>10430.0</td>\n",
              "      <td>10425.0</td>\n",
              "      <td>10427.5</td>\n",
              "      <td>1592.860198</td>\n",
              "    </tr>\n",
              "  </tbody>\n",
              "</table>\n",
              "</div>"
            ],
            "text/plain": [
              "             Date      Time  Volume  ...      Low    Close    close_usd\n",
              "555712 2019-01-01  20:01:00     668  ...  10410.0  10435.0  1594.005866\n",
              "555711 2019-01-01  20:02:00     191  ...  10432.5  10437.5  1594.387755\n",
              "555710 2019-01-01  20:03:00     200  ...  10430.0  10435.0  1594.005866\n",
              "555709 2019-01-01  20:04:00     189  ...  10425.0  10427.5  1592.860198\n",
              "555708 2019-01-01  20:05:00     176  ...  10425.0  10427.5  1592.860198\n",
              "\n",
              "[5 rows x 8 columns]"
            ]
          },
          "metadata": {
            "tags": []
          },
          "execution_count": 17
        }
      ]
    },
    {
      "cell_type": "code",
      "metadata": {
        "colab": {
          "base_uri": "https://localhost:8080/",
          "height": 195
        },
        "id": "6o2rbLhb1-_J",
        "outputId": "333f19e0-ce8f-42ff-b92f-6ebdb5a72f6c"
      },
      "source": [
        "df_china.tail()"
      ],
      "execution_count": null,
      "outputs": [
        {
          "output_type": "execute_result",
          "data": {
            "text/html": [
              "<div>\n",
              "<style scoped>\n",
              "    .dataframe tbody tr th:only-of-type {\n",
              "        vertical-align: middle;\n",
              "    }\n",
              "\n",
              "    .dataframe tbody tr th {\n",
              "        vertical-align: top;\n",
              "    }\n",
              "\n",
              "    .dataframe thead th {\n",
              "        text-align: right;\n",
              "    }\n",
              "</style>\n",
              "<table border=\"1\" class=\"dataframe\">\n",
              "  <thead>\n",
              "    <tr style=\"text-align: right;\">\n",
              "      <th></th>\n",
              "      <th>Date</th>\n",
              "      <th>Time</th>\n",
              "      <th>Volume</th>\n",
              "      <th>Open</th>\n",
              "      <th>High</th>\n",
              "      <th>Low</th>\n",
              "      <th>Close</th>\n",
              "      <th>close_usd</th>\n",
              "    </tr>\n",
              "  </thead>\n",
              "  <tbody>\n",
              "    <tr>\n",
              "      <th>4</th>\n",
              "      <td>2020-12-15</td>\n",
              "      <td>10:12:00</td>\n",
              "      <td>3</td>\n",
              "      <td>16750.0</td>\n",
              "      <td>16750.0</td>\n",
              "      <td>16750.0</td>\n",
              "      <td>16750.0</td>\n",
              "      <td>2558.658194</td>\n",
              "    </tr>\n",
              "    <tr>\n",
              "      <th>3</th>\n",
              "      <td>2020-12-15</td>\n",
              "      <td>10:13:00</td>\n",
              "      <td>5</td>\n",
              "      <td>16748.0</td>\n",
              "      <td>16750.0</td>\n",
              "      <td>16748.0</td>\n",
              "      <td>16750.0</td>\n",
              "      <td>2558.658194</td>\n",
              "    </tr>\n",
              "    <tr>\n",
              "      <th>2</th>\n",
              "      <td>2020-12-15</td>\n",
              "      <td>10:14:00</td>\n",
              "      <td>7</td>\n",
              "      <td>16749.0</td>\n",
              "      <td>16752.0</td>\n",
              "      <td>16749.0</td>\n",
              "      <td>16750.0</td>\n",
              "      <td>2558.658194</td>\n",
              "    </tr>\n",
              "    <tr>\n",
              "      <th>1</th>\n",
              "      <td>2020-12-15</td>\n",
              "      <td>10:15:00</td>\n",
              "      <td>18</td>\n",
              "      <td>16752.0</td>\n",
              "      <td>16755.0</td>\n",
              "      <td>16752.0</td>\n",
              "      <td>16753.0</td>\n",
              "      <td>2559.116461</td>\n",
              "    </tr>\n",
              "    <tr>\n",
              "      <th>0</th>\n",
              "      <td>2020-12-15</td>\n",
              "      <td>10:16:00</td>\n",
              "      <td>12</td>\n",
              "      <td>16753.0</td>\n",
              "      <td>16753.0</td>\n",
              "      <td>16750.0</td>\n",
              "      <td>16751.0</td>\n",
              "      <td>2558.810950</td>\n",
              "    </tr>\n",
              "  </tbody>\n",
              "</table>\n",
              "</div>"
            ],
            "text/plain": [
              "        Date      Time  Volume     Open     High      Low    Close    close_usd\n",
              "4 2020-12-15  10:12:00       3  16750.0  16750.0  16750.0  16750.0  2558.658194\n",
              "3 2020-12-15  10:13:00       5  16748.0  16750.0  16748.0  16750.0  2558.658194\n",
              "2 2020-12-15  10:14:00       7  16749.0  16752.0  16749.0  16750.0  2558.658194\n",
              "1 2020-12-15  10:15:00      18  16752.0  16755.0  16752.0  16753.0  2559.116461\n",
              "0 2020-12-15  10:16:00      12  16753.0  16753.0  16750.0  16751.0  2558.810950"
            ]
          },
          "metadata": {
            "tags": []
          },
          "execution_count": 18
        }
      ]
    },
    {
      "cell_type": "markdown",
      "metadata": {
        "id": "8WAGSjeW4vau"
      },
      "source": [
        "**OBSERVATION**\n",
        "*  Here we observe that each row of data is collected after every 1 minute from January 1, 2019 to December 15, 2020\n",
        "*  For training our model, we shall only be considering the close_column of the dataset FTSEChinaA50"
      ]
    },
    {
      "cell_type": "code",
      "metadata": {
        "id": "2FakViR61-3H"
      },
      "source": [
        "train_size = int(len(df_china['Close']) * 0.8)\n",
        "train_set = df_china['Close'][0:train_size]\n",
        "test_set = df_china['Close'][train_size:len(df_china['Close'])]"
      ],
      "execution_count": null,
      "outputs": []
    },
    {
      "cell_type": "code",
      "metadata": {
        "colab": {
          "base_uri": "https://localhost:8080/"
        },
        "id": "Kj05tG8O-0dB",
        "outputId": "944ed2b3-6d5d-46c5-fb8c-35973695f67a"
      },
      "source": [
        "print(\"train.shape:\", train_set.shape)\n",
        "print(\"test.shape:\", test_set.shape)"
      ],
      "execution_count": null,
      "outputs": [
        {
          "output_type": "stream",
          "text": [
            "train.shape: (444570,)\n",
            "test.shape: (111143,)\n"
          ],
          "name": "stdout"
        }
      ]
    },
    {
      "cell_type": "markdown",
      "metadata": {
        "id": "x4-cEPEXAdVS"
      },
      "source": [
        "## Normalizing the Data"
      ]
    },
    {
      "cell_type": "code",
      "metadata": {
        "id": "7LDDrjNgAOSw"
      },
      "source": [
        "normalizer = preprocessing.MinMaxScaler(feature_range=(0,1))\n",
        "train_norm = normalizer.fit_transform(np.array(train_set).reshape(-1,1))\n",
        "test_norm = normalizer.transform(np.array(test_set).reshape(-1,1))"
      ],
      "execution_count": null,
      "outputs": []
    },
    {
      "cell_type": "markdown",
      "metadata": {
        "id": "f0z6MMjuBT_8"
      },
      "source": [
        "## Performing Featurization using Moving-Window Technique"
      ]
    },
    {
      "cell_type": "code",
      "metadata": {
        "id": "4-yZTQHLAOMx"
      },
      "source": [
        "def create_featurization(dataset, timestep):\n",
        "\n",
        "  X_dataset, y_dataset = [], []\n",
        "  for i in range(len(dataset)-timestep-1):\n",
        "    features = dataset[i:(i+timestep), 0]\n",
        "    X_dataset.append(features)\n",
        "    y_dataset.append(dataset[(i+timestep), 0])\n",
        "  return np.array(X_dataset), np.array(y_dataset)"
      ],
      "execution_count": null,
      "outputs": []
    },
    {
      "cell_type": "code",
      "metadata": {
        "id": "a2EMZUrWAOKK"
      },
      "source": [
        "timestep = 100\n",
        "X_train, y_train = create_featurization(train_norm, timestep)\n",
        "X_test, y_test = create_featurization(test_norm, timestep)"
      ],
      "execution_count": null,
      "outputs": []
    },
    {
      "cell_type": "code",
      "metadata": {
        "colab": {
          "base_uri": "https://localhost:8080/"
        },
        "id": "YFXN6Z4Sqe8u",
        "outputId": "b36bb3b1-e33a-4e35-8ba5-52843d8b9bbd"
      },
      "source": [
        "print('X_train.shape: ', X_train.shape)\n",
        "print('y_train.shape: ', y_train.shape)\n",
        "print('X_test.shape: ', X_test.shape)\n",
        "print('y_test.shape: ', y_test.shape)"
      ],
      "execution_count": null,
      "outputs": [
        {
          "output_type": "stream",
          "text": [
            "X_train.shape:  (444469, 100)\n",
            "y_train.shape:  (444469,)\n",
            "X_test.shape:  (111042, 100)\n",
            "y_test.shape:  (111042,)\n"
          ],
          "name": "stdout"
        }
      ]
    },
    {
      "cell_type": "code",
      "metadata": {
        "id": "MRkvManYqerz"
      },
      "source": [
        "# pickle.dump((X_train, y_train, X_test, y_test, normalizer), open('/content/gdrive/MyDrive/skanestas/data_dump.pkl', 'wb'))"
      ],
      "execution_count": null,
      "outputs": []
    },
    {
      "cell_type": "markdown",
      "metadata": {
        "id": "IRkjY65hv0J0"
      },
      "source": [
        "## Reshaping Data for LSTM"
      ]
    },
    {
      "cell_type": "code",
      "metadata": {
        "id": "7FMDeclfqWEi"
      },
      "source": [
        "X_train_3d = X_train.reshape(X_train.shape[0], X_train.shape[1], 1)\n",
        "X_test_3d = X_test.reshape(X_test.shape[0], X_test.shape[1], 1)"
      ],
      "execution_count": null,
      "outputs": []
    },
    {
      "cell_type": "code",
      "metadata": {
        "colab": {
          "base_uri": "https://localhost:8080/"
        },
        "id": "J4ja8ohqqWDh",
        "outputId": "b607a224-bd6c-4493-d946-7e7f9c21b0f8"
      },
      "source": [
        "print('X_train_3d.shape: ', X_train_3d.shape)\n",
        "print('X_test_3d.shape: ', X_test_3d.shape)"
      ],
      "execution_count": null,
      "outputs": [
        {
          "output_type": "stream",
          "text": [
            "X_train_3d.shape:  (444469, 100, 1)\n",
            "X_test_3d.shape:  (111042, 100, 1)\n"
          ],
          "name": "stdout"
        }
      ]
    },
    {
      "cell_type": "markdown",
      "metadata": {
        "id": "GwweWFRD03e2"
      },
      "source": [
        "## Building a Stacked LSTM Model"
      ]
    },
    {
      "cell_type": "code",
      "metadata": {
        "id": "vAJ3JuEvqWB2"
      },
      "source": [
        "model = models.Sequential()\n",
        "model.add(layers.LSTM(200, return_sequences=True, input_shape=(100, 1), name='lstm_layer_1'))\n",
        "model.add(layers.LSTM(100, return_sequences=True, name='lstm_layer_2'))\n",
        "model.add(layers.LSTM(50, name='lstm_layer_3'))\n",
        "model.add(layers.Dropout(rate=0.6, name='dropout_layer_1'))\n",
        "model.add(layers.Dense(1, name='output_layer'))"
      ],
      "execution_count": null,
      "outputs": []
    },
    {
      "cell_type": "code",
      "metadata": {
        "id": "uRjmg_w4z1_x"
      },
      "source": [
        "model.compile(optimizer=optimizers.Adam(learning_rate=0.0001), loss='mean_squared_error')"
      ],
      "execution_count": null,
      "outputs": []
    },
    {
      "cell_type": "code",
      "metadata": {
        "colab": {
          "base_uri": "https://localhost:8080/"
        },
        "id": "t9thCLfRz2Py",
        "outputId": "e2d52a52-2fe2-414b-95ab-7bffff734ed3"
      },
      "source": [
        "model.summary()"
      ],
      "execution_count": null,
      "outputs": [
        {
          "output_type": "stream",
          "text": [
            "Model: \"sequential_4\"\n",
            "_________________________________________________________________\n",
            "Layer (type)                 Output Shape              Param #   \n",
            "=================================================================\n",
            "lstm_layer_1 (LSTM)          (None, 100, 200)          161600    \n",
            "_________________________________________________________________\n",
            "lstm_layer_2 (LSTM)          (None, 100, 100)          120400    \n",
            "_________________________________________________________________\n",
            "lstm_layer_3 (LSTM)          (None, 50)                30200     \n",
            "_________________________________________________________________\n",
            "dropout_layer_1 (Dropout)    (None, 50)                0         \n",
            "_________________________________________________________________\n",
            "output_layer (Dense)         (None, 1)                 51        \n",
            "=================================================================\n",
            "Total params: 312,251\n",
            "Trainable params: 312,251\n",
            "Non-trainable params: 0\n",
            "_________________________________________________________________\n"
          ],
          "name": "stdout"
        }
      ]
    },
    {
      "cell_type": "markdown",
      "metadata": {
        "id": "_KPjsPAG3oyJ"
      },
      "source": [
        "## Defining Callbacks"
      ]
    },
    {
      "cell_type": "code",
      "metadata": {
        "id": "KrLjlUbEz178"
      },
      "source": [
        "filepath = \"/content/gdrive/MyDrive/skanestas/models/lstm_model_epochs:{epoch:03d}-val_loss:{val_loss:.6f}.hdf5\"\n",
        "checkpoint = callbacks.ModelCheckpoint(filepath, monitor=\"val_loss\", save_best_only=True, verbose=1)"
      ],
      "execution_count": null,
      "outputs": []
    },
    {
      "cell_type": "code",
      "metadata": {
        "id": "hgoDFLKvz16H"
      },
      "source": [
        "early_stopping = callbacks.EarlyStopping(monitor='val_loss', patience=4, verbose=1)"
      ],
      "execution_count": null,
      "outputs": []
    },
    {
      "cell_type": "code",
      "metadata": {
        "id": "41z4xKoD5r07"
      },
      "source": [
        "callback_list = [checkpoint, early_stopping]"
      ],
      "execution_count": null,
      "outputs": []
    },
    {
      "cell_type": "markdown",
      "metadata": {
        "id": "t0Wcs2Xf6em-"
      },
      "source": [
        "## Training the Model"
      ]
    },
    {
      "cell_type": "code",
      "metadata": {
        "colab": {
          "base_uri": "https://localhost:8080/"
        },
        "id": "aZJ91cLZz13D",
        "outputId": "12ad1f84-88dc-40c5-c27d-63c972669f03"
      },
      "source": [
        "print(tf.device('/device:GPU:0'))"
      ],
      "execution_count": null,
      "outputs": [
        {
          "output_type": "stream",
          "text": [
            "<tensorflow.python.eager.context._EagerDeviceContext object at 0x7f28643baf50>\n"
          ],
          "name": "stdout"
        }
      ]
    },
    {
      "cell_type": "code",
      "metadata": {
        "colab": {
          "base_uri": "https://localhost:8080/"
        },
        "id": "PF0cHTkwz11A",
        "outputId": "692c8b29-449d-488f-88c4-425d907d6ab5"
      },
      "source": [
        "with tf.device('/device:GPU:0'):\n",
        "  history = model.fit(X_train_3d, y_train, validation_data=(X_test_3d, y_test), epochs=100, batch_size=64, verbose=1, \n",
        "                      callbacks=callback_list)"
      ],
      "execution_count": null,
      "outputs": [
        {
          "output_type": "stream",
          "text": [
            "Epoch 1/100\n",
            "6945/6945 [==============================] - 133s 19ms/step - loss: 0.0104 - val_loss: 5.2102e-04\n",
            "\n",
            "Epoch 00001: val_loss improved from inf to 0.00052, saving model to /content/gdrive/MyDrive/skanestas/models/lstm_model_epochs:001-val_loss:0.000521.hdf5\n",
            "Epoch 2/100\n",
            "6945/6945 [==============================] - 129s 19ms/step - loss: 0.0013 - val_loss: 4.2352e-04\n",
            "\n",
            "Epoch 00002: val_loss improved from 0.00052 to 0.00042, saving model to /content/gdrive/MyDrive/skanestas/models/lstm_model_epochs:002-val_loss:0.000424.hdf5\n",
            "Epoch 3/100\n",
            "6945/6945 [==============================] - 129s 19ms/step - loss: 7.7097e-04 - val_loss: 4.0527e-04\n",
            "\n",
            "Epoch 00003: val_loss improved from 0.00042 to 0.00041, saving model to /content/gdrive/MyDrive/skanestas/models/lstm_model_epochs:003-val_loss:0.000405.hdf5\n",
            "Epoch 4/100\n",
            "6945/6945 [==============================] - 129s 19ms/step - loss: 7.7158e-04 - val_loss: 2.9034e-04\n",
            "\n",
            "Epoch 00004: val_loss improved from 0.00041 to 0.00029, saving model to /content/gdrive/MyDrive/skanestas/models/lstm_model_epochs:004-val_loss:0.000290.hdf5\n",
            "Epoch 5/100\n",
            "6945/6945 [==============================] - 129s 19ms/step - loss: 7.5959e-04 - val_loss: 2.9348e-05\n",
            "\n",
            "Epoch 00005: val_loss improved from 0.00029 to 0.00003, saving model to /content/gdrive/MyDrive/skanestas/models/lstm_model_epochs:005-val_loss:0.000029.hdf5\n",
            "Epoch 6/100\n",
            "6945/6945 [==============================] - 128s 18ms/step - loss: 7.5734e-04 - val_loss: 5.6088e-05\n",
            "\n",
            "Epoch 00006: val_loss did not improve from 0.00003\n",
            "Epoch 7/100\n",
            "6945/6945 [==============================] - 129s 19ms/step - loss: 7.5781e-04 - val_loss: 1.2973e-05\n",
            "\n",
            "Epoch 00007: val_loss improved from 0.00003 to 0.00001, saving model to /content/gdrive/MyDrive/skanestas/models/lstm_model_epochs:007-val_loss:0.000013.hdf5\n",
            "Epoch 8/100\n",
            "6945/6945 [==============================] - 128s 18ms/step - loss: 7.6082e-04 - val_loss: 3.1344e-04\n",
            "\n",
            "Epoch 00008: val_loss did not improve from 0.00001\n",
            "Epoch 9/100\n",
            "6945/6945 [==============================] - 128s 18ms/step - loss: 7.4966e-04 - val_loss: 2.9841e-04\n",
            "\n",
            "Epoch 00009: val_loss did not improve from 0.00001\n",
            "Epoch 10/100\n",
            "6945/6945 [==============================] - 128s 18ms/step - loss: 7.5146e-04 - val_loss: 1.1207e-04\n",
            "\n",
            "Epoch 00010: val_loss did not improve from 0.00001\n",
            "Epoch 11/100\n",
            "6945/6945 [==============================] - 128s 18ms/step - loss: 7.5964e-04 - val_loss: 1.0477e-04\n",
            "\n",
            "Epoch 00011: val_loss did not improve from 0.00001\n",
            "Epoch 00011: early stopping\n"
          ],
          "name": "stdout"
        }
      ]
    },
    {
      "cell_type": "code",
      "metadata": {
        "id": "0eznmGjvz1yj"
      },
      "source": [
        "def plot_loss(history):  \n",
        "\n",
        "  plt.plot(history.history['loss'], label='loss')\n",
        "  plt.plot(history.history['val_loss'], label = 'val_loss')\n",
        "  plt.xlabel('Epoch')\n",
        "  plt.ylabel('Loss')\n",
        "  plt.legend(loc='upper right')"
      ],
      "execution_count": null,
      "outputs": []
    },
    {
      "cell_type": "code",
      "metadata": {
        "colab": {
          "base_uri": "https://localhost:8080/",
          "height": 279
        },
        "id": "YzyDXEaSz1wB",
        "outputId": "a56ca441-1c5d-4a04-c811-d2b50a0aebaf"
      },
      "source": [
        "plot_loss(history)"
      ],
      "execution_count": null,
      "outputs": [
        {
          "output_type": "display_data",
          "data": {
            "image/png": "[encoded data removed]",
            "text/plain": [
              "<Figure size 432x288 with 1 Axes>"
            ]
          },
          "metadata": {
            "tags": [],
            "needs_background": "light"
          }
        }
      ]
    },
    {
      "cell_type": "markdown",
      "metadata": {
        "id": "_uGMYnnhmK4-"
      },
      "source": [
        "## Making Predictions"
      ]
    },
    {
      "cell_type": "code",
      "metadata": {
        "id": "VUvVDnJuqV69"
      },
      "source": [
        "X_train, y_train, X_test, y_test, normalizer = pickle.load(open('/content/gdrive/MyDrive/skanestas/data_dump.pkl', 'rb'))"
      ],
      "execution_count": null,
      "outputs": []
    },
    {
      "cell_type": "code",
      "metadata": {
        "id": "2gNxRpdV-0VY"
      },
      "source": [
        "X_train_3d = X_train.reshape(X_train.shape[0], X_train.shape[1], 1)\n",
        "X_test_3d = X_test.reshape(X_test.shape[0], X_test.shape[1], 1)"
      ],
      "execution_count": null,
      "outputs": []
    },
    {
      "cell_type": "code",
      "metadata": {
        "colab": {
          "base_uri": "https://localhost:8080/"
        },
        "id": "gNvdmn6M-0Ti",
        "outputId": "fa0a9f78-a216-48c1-83f0-e450402d45a8"
      },
      "source": [
        "print('X_train_3d.shape: ', X_train_3d.shape)\n",
        "print('y_train.shape: ', y_train.shape)\n",
        "print('X_test_3d.shape: ', X_test_3d.shape)\n",
        "print('y_test.shape: ', y_test.shape)"
      ],
      "execution_count": null,
      "outputs": [
        {
          "output_type": "stream",
          "text": [
            "X_train_3d.shape:  (444469, 100, 1)\n",
            "y_train.shape:  (444469,)\n",
            "X_test_3d.shape:  (111042, 100, 1)\n",
            "y_test.shape:  (111042,)\n"
          ],
          "name": "stdout"
        }
      ]
    },
    {
      "cell_type": "code",
      "metadata": {
        "id": "V-0GKcAd-0RW"
      },
      "source": [
        "best_model = models.load_model('/content/gdrive/MyDrive/skanestas/models/lstm_model_epochs:007-val_loss:0.000013.hdf5')"
      ],
      "execution_count": null,
      "outputs": []
    },
    {
      "cell_type": "code",
      "metadata": {
        "id": "ALE4ELx6zxLd"
      },
      "source": [
        "y_train_predict = best_model.predict(X_train_3d)\n",
        "y_test_predict = best_model.predict(X_test_3d)"
      ],
      "execution_count": null,
      "outputs": []
    },
    {
      "cell_type": "code",
      "metadata": {
        "id": "auCbgEqQzxJW"
      },
      "source": [
        "y_train_predict = normalizer.inverse_transform(y_train_predict)\n",
        "y_test_predict = normalizer.inverse_transform(y_test_predict)"
      ],
      "execution_count": null,
      "outputs": []
    },
    {
      "cell_type": "code",
      "metadata": {
        "id": "rVvC5Ck26A8z"
      },
      "source": [
        "def plot_act_v_pred(title, actual_set, predicted_set, color_list):\n",
        "  \n",
        "  plt.figure(figsize=(10,10))\n",
        "  plt.title(title)\n",
        "  plt.plot(normalizer.inverse_transform(actual_set.reshape(-1,1)), color=color_list[0], label='actual')\n",
        "  plt.plot(predicted_set, color=color_list[1], label='predicted')\n",
        "  plt.legend(loc='lower right')\n",
        "  plt.show()"
      ],
      "execution_count": null,
      "outputs": []
    },
    {
      "cell_type": "code",
      "metadata": {
        "colab": {
          "base_uri": "https://localhost:8080/",
          "height": 607
        },
        "id": "m0uyC8tm6nFa",
        "outputId": "ced5f0df-a847-4213-c2a1-dca32ca91112"
      },
      "source": [
        "title = 'Actual Train Values (RED) VS Predicted Train Values (BLUE)'\n",
        "color_list = ['red', 'blue']\n",
        "plot_act_v_pred(title, y_train, y_train_predict, color_list)"
      ],
      "execution_count": null,
      "outputs": [
        {
          "output_type": "display_data",
          "data": {
            "image/png": "[encoded data removed]",
            "text/plain": [
              "<Figure size 720x720 with 1 Axes>"
            ]
          },
          "metadata": {
            "tags": [],
            "needs_background": "light"
          }
        }
      ]
    },
    {
      "cell_type": "code",
      "metadata": {
        "colab": {
          "base_uri": "https://localhost:8080/",
          "height": 607
        },
        "id": "H9f7us7b7LHu",
        "outputId": "159ee02e-08e5-45ef-a6a0-aa8bc21b99b8"
      },
      "source": [
        "title = 'Actual Test Values (GREEN) VS Predicted Test Values (ORANGE)'\n",
        "color_list = ['green', 'orange']\n",
        "plot_act_v_pred(title, y_test, y_test_predict, color_list)"
      ],
      "execution_count": null,
      "outputs": [
        {
          "output_type": "display_data",
          "data": {
            "image/png": "[encoded data removed]",
            "text/plain": [
              "<Figure size 720x720 with 1 Axes>"
            ]
          },
          "metadata": {
            "tags": [],
            "needs_background": "light"
          }
        }
      ]
    },
    {
      "cell_type": "code",
      "metadata": {
        "id": "Pj3kpyQ8yVkv"
      },
      "source": [
        ""
      ],
      "execution_count": null,
      "outputs": []
    },
    {
      "cell_type": "code",
      "metadata": {
        "id": "EB0T5zqfyU5P"
      },
      "source": [
        ""
      ],
      "execution_count": null,
      "outputs": []
    },
    {
      "cell_type": "code",
      "metadata": {
        "id": "boZcmnoRvz0Q"
      },
      "source": [
        ""
      ],
      "execution_count": null,
      "outputs": []
    }
  ]
}